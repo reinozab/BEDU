{
  "cells": [
    {
      "cell_type": "markdown",
      "metadata": {
        "id": "AWpoAlPtowCu"
      },
      "source": [
        "## Reto 3: And\n",
        "\n",
        "### 1. Objetivos:\n",
        "    - Practicar el operador `and` y usarlo para realizar filtros más complejos\n",
        " \n",
        "---\n",
        "    \n",
        "### 2. Desarrollo:"
      ]
    },
    {
      "cell_type": "markdown",
      "metadata": {
        "id": "i-e4Gi37owCx"
      },
      "source": [
        "#### a) Filtrando valores atípicos en ambos extremos.\n",
        "\n",
        "Regresemos a nuestro ejemplo de EyePoker Inc. Esta vez tenemos un nuevo conjunto de datos con más empleados (la industria de picadores de ojos va en aumento vertiginoso). Además incluye los sueldos de algunos internos. Estos sueldos son muy bajos (simbólicos, podríamos llamarlos), como puedes ver:"
      ]
    },
    {
      "cell_type": "code",
      "execution_count": 3,
      "metadata": {
        "id": "_yuVV_2lowCy"
      },
      "outputs": [],
      "source": [
        "sueldos = [26, 32, 26, 1.5, 30, 30, 1, 2, 32, 28, 30, 28, 30, 28, 27, 30, 110, 1.5, 2, 34, 30, 28, 26, 28, 2, 30, 28, 85, 25, 1.5,\n",
        "           1.5, 30, 34, 34, 30, 30, 120, 28, 2, 2, 1.5, 28, 120, 1, 1.5, 125, 2, 1.5, 28, 29, 30, 34, 33, 28, 2, 1, 1.5, 26, 28,\n",
        "          26, 26, 30, 30, 28, 2, 2, 1.5, 2, 1.5, 28, 27, 130, 1.5, 2, 26, 26, 28, 30, 30, 30, 28, 28, 1, 1, 135, 1, 1, 1.5, 2,\n",
        "          2, 2, 1.5, 2]"
      ]
    },
    {
      "cell_type": "markdown",
      "metadata": {
        "id": "ae_Ep31nowCz"
      },
      "source": [
        "En realidad a nosotros sólo nos interesa analizar los sueldos de los empleados que tiene la empresa a largo plazo. Como tenemos bastantes internos, es muy probable que la inclusión de estos sueldos vaya a distorsionar nuestro cálculo del sueldo `típico` en la empresa:"
      ]
    },
    {
      "cell_type": "code",
      "execution_count": 4,
      "metadata": {
        "id": "P8uy110lowCz",
        "outputId": "342f4f24-6fd4-4f03-dd7d-3143e9299765",
        "colab": {
          "base_uri": "https://localhost:8080/"
        }
      },
      "outputs": [
        {
          "output_type": "stream",
          "name": "stdout",
          "text": [
            "El sueldo \"típico\" en EyePoker Inc. es de 25.36021505376344\n"
          ]
        }
      ],
      "source": [
        "print(f'El sueldo \"típico\" en EyePoker Inc. es de {sum(sueldos) / len(sueldos)}')"
      ]
    },
    {
      "cell_type": "markdown",
      "metadata": {
        "id": "NrXpEwClowC0"
      },
      "source": [
        "Para evitar esta distorsión y calcular solamente el sueldo `típico` de los empleados que están contratados a largo plazo, vamos a filtrar nuestra lista.\n",
        "\n",
        "Lo que tienes que hacer es lo siguiente:\n",
        "\n",
        "1. Define una función que regrese `True` cuando el argumento sea mayor que 20.\n",
        "2. Define una función que regrese `True` cuando el argumento sea menor que 40.\n",
        "3. Define una tercera función que una las dos primeras funciones usando un operador `and`.\n",
        "4. Filtrar la lista y asignarla a `sueldos_filtrados`."
      ]
    },
    {
      "cell_type": "code",
      "execution_count": 5,
      "metadata": {
        "id": "-EPn_XlTowC0"
      },
      "outputs": [],
      "source": [
        "def mayor_que_20(numero):\n",
        "  if numero>20:\n",
        "    return True\n",
        "  else:\n",
        "    return False\n"
      ]
    },
    {
      "cell_type": "code",
      "execution_count": 6,
      "metadata": {
        "id": "hLTVAd37owC1"
      },
      "outputs": [],
      "source": [
        "def menor_que_40(numero):\n",
        "  if numero<40:\n",
        "    return True\n",
        "  else:\n",
        "    return False"
      ]
    },
    {
      "cell_type": "code",
      "execution_count": 7,
      "metadata": {
        "id": "OvTZjKRmowC2"
      },
      "outputs": [],
      "source": [
        "def funciones(numero):\n",
        "  return menor_que_40(numero) and mayor_que_20(numero)"
      ]
    },
    {
      "cell_type": "code",
      "execution_count": 8,
      "metadata": {
        "id": "Mp1eZdGcowC2",
        "outputId": "7762f1b0-f642-4cec-f944-9856ab604e78",
        "colab": {
          "base_uri": "https://localhost:8080/"
        }
      },
      "outputs": [
        {
          "output_type": "execute_result",
          "data": {
            "text/plain": [
              "[26,\n",
              " 32,\n",
              " 26,\n",
              " 30,\n",
              " 30,\n",
              " 32,\n",
              " 28,\n",
              " 30,\n",
              " 28,\n",
              " 30,\n",
              " 28,\n",
              " 27,\n",
              " 30,\n",
              " 34,\n",
              " 30,\n",
              " 28,\n",
              " 26,\n",
              " 28,\n",
              " 30,\n",
              " 28,\n",
              " 25,\n",
              " 30,\n",
              " 34,\n",
              " 34,\n",
              " 30,\n",
              " 30,\n",
              " 28,\n",
              " 28,\n",
              " 28,\n",
              " 29,\n",
              " 30,\n",
              " 34,\n",
              " 33,\n",
              " 28,\n",
              " 26,\n",
              " 28,\n",
              " 26,\n",
              " 26,\n",
              " 30,\n",
              " 30,\n",
              " 28,\n",
              " 28,\n",
              " 27,\n",
              " 26,\n",
              " 26,\n",
              " 28,\n",
              " 30,\n",
              " 30,\n",
              " 30,\n",
              " 28,\n",
              " 28]"
            ]
          },
          "metadata": {},
          "execution_count": 8
        }
      ],
      "source": [
        "sueldos_filtrados = list(filter(funciones,sueldos))\n",
        "sueldos_filtrados"
      ]
    },
    {
      "cell_type": "code",
      "execution_count": 9,
      "metadata": {
        "id": "sh4RBGhRowC3",
        "outputId": "c596623d-1f25-4da4-d41b-7ae648167303",
        "colab": {
          "base_uri": "https://localhost:8080/"
        }
      },
      "outputs": [
        {
          "output_type": "stream",
          "name": "stdout",
          "text": [
            "El sueldo \"típico\" en EyePoker Inc. es de 28.96078431372549\n"
          ]
        }
      ],
      "source": [
        "print(f'El sueldo \"típico\" en EyePoker Inc. es de {sum(sueldos_filtrados) / len(sueldos_filtrados)}')"
      ]
    },
    {
      "cell_type": "markdown",
      "metadata": {
        "id": "NmnfcAdCowC3"
      },
      "source": [
        "<details><summary>Solución</summary>\n",
        "\n",
        "```python\n",
        "def numero_es_mayor_que_20(numero):\n",
        "    \n",
        "    if numero > 20:\n",
        "        return True\n",
        "    \n",
        "def numero_es_menor_que_40(numero):\n",
        "    \n",
        "    if numero < 40:\n",
        "        return True\n",
        "            \n",
        "def numero_es_mayor_que_20_y_menor_que_40(numero):\n",
        "    \n",
        "    return numero_es_mayor_que_20(numero) and numero_es_menor_que_40(numero)\n",
        "                \n",
        "sueldos_filtrados = list(filter(numero_es_mayor_que_20_y_menor_que_40, sueldos))\n",
        "```\n",
        "    \n",
        "</details>"
      ]
    },
    {
      "cell_type": "code",
      "execution_count": null,
      "metadata": {
        "id": "576fYtg8owC4"
      },
      "outputs": [],
      "source": [
        ""
      ]
    }
  ],
  "metadata": {
    "kernelspec": {
      "display_name": "Python (data_science)",
      "language": "python",
      "name": "data_science"
    },
    "language_info": {
      "codemirror_mode": {
        "name": "ipython",
        "version": 3
      },
      "file_extension": ".py",
      "mimetype": "text/x-python",
      "name": "python",
      "nbconvert_exporter": "python",
      "pygments_lexer": "ipython3",
      "version": "3.8.5"
    },
    "colab": {
      "name": "and.ipynb",
      "provenance": []
    }
  },
  "nbformat": 4,
  "nbformat_minor": 0
}