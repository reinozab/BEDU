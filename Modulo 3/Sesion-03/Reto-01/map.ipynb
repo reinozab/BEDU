{
  "cells": [
    {
      "cell_type": "markdown",
      "metadata": {
        "id": "MrIkc76FgDXo"
      },
      "source": [
        "## Reto 1: Map\n",
        "\n",
        "### 1. Objetivos:\n",
        "    - Practicar el uso de `map` para transformar los datos en una `lista`\n",
        " \n",
        "---\n",
        "    \n",
        "### 2. Desarrollo:"
      ]
    },
    {
      "cell_type": "markdown",
      "metadata": {
        "id": "9jRifnuegDXq"
      },
      "source": [
        "#### a) Proporción a porcentajes\n",
        "\n",
        "Tenemos una lista que contiene proporciones:"
      ]
    },
    {
      "cell_type": "code",
      "execution_count": 1,
      "metadata": {
        "id": "s6jfODNygDXq"
      },
      "outputs": [],
      "source": [
        "proporciones = [0.45, 0.2, 0.78, 0.4, 0.77, 0.9, 0.4, 0.5, 0.67, 0.24, 0.73]"
      ]
    },
    {
      "cell_type": "markdown",
      "metadata": {
        "id": "hc2AGBmJgDXr"
      },
      "source": [
        "Queremos convertir esta lista en una lista `porcentajes`, donde las proporciones hayan sido convertidas a porcentajes. Termina la función `proporcion_a_porcentajes` y después utiliza `map` para convertir `proporciones` y asignar la lista transformada a `porcentajes`:"
      ]
    },
    {
      "cell_type": "code",
      "execution_count": 5,
      "metadata": {
        "id": "a6perqp8gDXs"
      },
      "outputs": [],
      "source": [
        "def proporcion_a_porcentajes(proporcion):\n",
        "  porcentaje = proporcion*100\n",
        "  return porcentaje"
      ]
    },
    {
      "cell_type": "code",
      "execution_count": 8,
      "metadata": {
        "colab": {
          "base_uri": "https://localhost:8080/"
        },
        "id": "gqZAnaz8gDXs",
        "outputId": "c1a32193-5de6-48bb-a58a-380c1128da82"
      },
      "outputs": [
        {
          "output_type": "execute_result",
          "data": {
            "text/plain": [
              "[45.0, 20.0, 78.0, 40.0, 77.0, 90.0, 40.0, 50.0, 67.0, 24.0, 73.0]"
            ]
          },
          "metadata": {},
          "execution_count": 8
        }
      ],
      "source": [
        "porcentajes = list(map(proporcion_a_porcentajes,proporciones))\n",
        "porcentajes"
      ]
    },
    {
      "cell_type": "markdown",
      "metadata": {
        "id": "jlebeJr6gDXt"
      },
      "source": [
        "Corre después la siguiente celda para obtener una representación en `string`. No importa si no entiendes por completo qué está pasando en la siguiente celda. Más adelante en el módulo aprenderemos a hacer esto y más."
      ]
    },
    {
      "cell_type": "code",
      "execution_count": null,
      "metadata": {
        "id": "oE5-HPj2gDXt"
      },
      "outputs": [],
      "source": [
        "# Pega aquí la función de verificación\n",
        "   \n",
        "\n",
        "imprimir_proporciones_en_equivalencia_a_porcentajes(proporciones, porcentajes)"
      ]
    },
    {
      "cell_type": "markdown",
      "metadata": {
        "id": "jwZ-5MLigDXu"
      },
      "source": [
        "<details><summary>Solución</summary>\n",
        "\n",
        "```python\n",
        "def proporcion_a_porcentajes(proporcion):\n",
        "  \n",
        "    return proporcion * 100\n",
        "    \n",
        "porcentajes = list(map(proporcion_a_porcentajes, proporciones)) \n",
        "```\n",
        "    \n",
        "</details>"
      ]
    },
    {
      "cell_type": "markdown",
      "metadata": {
        "id": "wnmoLAt8gDXv"
      },
      "source": [
        "#### b) Strings a números\n",
        "\n",
        "Tenemos una `lista` con strings que representan valores númericos:"
      ]
    },
    {
      "cell_type": "code",
      "execution_count": null,
      "metadata": {
        "id": "t8LjZeLrgDXv"
      },
      "outputs": [],
      "source": [
        "numeros_como_strings = [\"3\", \"7\", \"45\", \"89\", \"12\", \"9\", \"5\", \"89\", \"78\", \"87\", \"44\", \"45\", \"26\", \"84\", \"98\", \"46\", \"99\", \"84\"]"
      ]
    },
    {
      "cell_type": "markdown",
      "metadata": {
        "id": "eb_-iyWfgDXv"
      },
      "source": [
        "Para poder realizar algunos cálculos estádisticos, necesitamos que estas `strings` sean convertidas a `ints`. Escribe la función `string_a_int` y asigna el resultado de su aplicación a `numeros_como_strings` a la variable `numeros_como_ints`:"
      ]
    },
    {
      "cell_type": "code",
      "execution_count": null,
      "metadata": {
        "id": "y3XqJRnHgDXw"
      },
      "outputs": [],
      "source": [
        "def string_a_int(string):\n",
        "    \n",
        "    ## Tu código va aquí\n",
        "    # ...\n",
        "    # ...\n",
        "    \n",
        "    return"
      ]
    },
    {
      "cell_type": "code",
      "execution_count": null,
      "metadata": {
        "id": "dGwbFt8xgDXw"
      },
      "outputs": [],
      "source": [
        "numeros_como_ints ="
      ]
    },
    {
      "cell_type": "markdown",
      "metadata": {
        "id": "v0162KtqgDXx"
      },
      "source": [
        "Pídele a tu experta la función de verificación `imprimir_analisis_estadistico` (encontrada en el archivo `helpers.py` de la carpeta donde se encuentra este Reto), pégala debajo y corre la celda para verificar tu resultado:"
      ]
    },
    {
      "cell_type": "code",
      "execution_count": null,
      "metadata": {
        "id": "Aeo61ik2gDXx"
      },
      "outputs": [],
      "source": [
        "# Pega aquí la función de verificación\n",
        "\n",
        "imprimir_analisis_estadistico(numeros_como_ints)"
      ]
    },
    {
      "cell_type": "markdown",
      "metadata": {
        "id": "wLgvpOuogDXx"
      },
      "source": [
        "<details><summary>Solución</summary>\n",
        "\n",
        "```python\n",
        "def string_a_int(string):\n",
        "    \n",
        "    return int(string)\n",
        "    \n",
        "numeros_como_ints = list(map(string_a_int, numeros_como_strings))\n",
        "```\n",
        "    \n",
        "</details>"
      ]
    },
    {
      "cell_type": "code",
      "execution_count": null,
      "metadata": {
        "id": "AzPSFcqYgDXy"
      },
      "outputs": [],
      "source": [
        ""
      ]
    }
  ],
  "metadata": {
    "kernelspec": {
      "display_name": "Python (data_science)",
      "language": "python",
      "name": "data_science"
    },
    "language_info": {
      "codemirror_mode": {
        "name": "ipython",
        "version": 3
      },
      "file_extension": ".py",
      "mimetype": "text/x-python",
      "name": "python",
      "nbconvert_exporter": "python",
      "pygments_lexer": "ipython3",
      "version": "3.8.5"
    },
    "colab": {
      "name": "map.ipynb",
      "provenance": []
    }
  },
  "nbformat": 4,
  "nbformat_minor": 0
}