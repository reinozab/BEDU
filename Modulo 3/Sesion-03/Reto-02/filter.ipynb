{
  "cells": [
    {
      "cell_type": "markdown",
      "metadata": {
        "id": "Es11KOODkugd"
      },
      "source": [
        "## Reto 2: Filter\n",
        "\n",
        "### 1. Objetivos:\n",
        "    - Practicar el uso de `filter` para filtrar los datos en una `lista`\n",
        " \n",
        "---\n",
        "    \n",
        "### 2. Desarrollo:"
      ]
    },
    {
      "cell_type": "markdown",
      "metadata": {
        "id": "r4TApbqWkuge"
      },
      "source": [
        "#### a) Limpiando datos nulos\n",
        "\n",
        "Debajo tenemos una `lista` que incluye datos acerca de las edades de las personas que han atendido a un curso de Cocina Medieval (ya sabes: puerco al horno, manzanas asadas, aguardiente, sangre fresca de tus enemigos). Algunas de las personas que atendieron no quisieron dar su edad. Es por eso que algunos de los elementos son `None`:"
      ]
    },
    {
      "cell_type": "code",
      "execution_count": 1,
      "metadata": {
        "id": "zx3NK0jYkugf"
      },
      "outputs": [],
      "source": [
        "edades = [12, 16, 19, None, 21, 25, 24, None, None, 16, 17, 25, 23, 28, None, 23, 35, 59, 67, None, 34, 21, 23, 15, 14, None, 18, 24, 23, 17]"
      ]
    },
    {
      "cell_type": "markdown",
      "metadata": {
        "id": "_bt0jBuKkugg"
      },
      "source": [
        "Queremos realizar una pequeña visualización (un histograma, que ya aprenderás a hacer más tarde) con nuestros datos. Pero no nos interesan los datos que vienen como `None`. Escribe una función llamada `valor_no_es_none` que reciba un valor, cheque si el valor es `None`, regrese `False` si el valor es `None` o regrese `True` si el valor **no** es `None`. Después úsala para filtrar tus datos:"
      ]
    },
    {
      "cell_type": "code",
      "execution_count": 3,
      "metadata": {
        "id": "V5jwyVBtkugh"
      },
      "outputs": [],
      "source": [
        "def valor_no_es_none (valor):\n",
        "  if valor==None:\n",
        "    return False\n",
        "  else:\n",
        "    return True\n",
        "\n",
        "##\n",
        "## ...\n",
        "## ..."
      ]
    },
    {
      "cell_type": "code",
      "execution_count": 6,
      "metadata": {
        "id": "f7afmKm0kugh",
        "outputId": "7c7f6c22-9342-42a2-b218-6f32d5f4d026",
        "colab": {
          "base_uri": "https://localhost:8080/"
        }
      },
      "outputs": [
        {
          "output_type": "execute_result",
          "data": {
            "text/plain": [
              "[12,\n",
              " 16,\n",
              " 19,\n",
              " 21,\n",
              " 25,\n",
              " 24,\n",
              " 16,\n",
              " 17,\n",
              " 25,\n",
              " 23,\n",
              " 28,\n",
              " 23,\n",
              " 35,\n",
              " 59,\n",
              " 67,\n",
              " 34,\n",
              " 21,\n",
              " 23,\n",
              " 15,\n",
              " 14,\n",
              " 18,\n",
              " 24,\n",
              " 23,\n",
              " 17]"
            ]
          },
          "metadata": {},
          "execution_count": 6
        }
      ],
      "source": [
        "edades_filtradas = list(filter(valor_no_es_none,edades))\n",
        "edades_filtradas"
      ]
    },
    {
      "cell_type": "markdown",
      "metadata": {
        "id": "6re1OZFokugi"
      },
      "source": [
        "Pídele a tu experta la función de verificación `crear_histograma_con` (encontrada en el archivo `helpers.py` de la carpeta donde se encuentra este Reto), pégala debajo y corre la celda para verificar tu resultado:"
      ]
    },
    {
      "cell_type": "code",
      "execution_count": 7,
      "metadata": {
        "id": "LvXNYR1Xkugi",
        "outputId": "6c70c5b8-784e-480f-9851-274495a0385f",
        "colab": {
          "base_uri": "https://localhost:8080/",
          "height": 320
        }
      },
      "outputs": [
        {
          "output_type": "stream",
          "name": "stderr",
          "text": [
            "/usr/local/lib/python3.7/dist-packages/seaborn/distributions.py:2619: FutureWarning: `distplot` is a deprecated function and will be removed in a future version. Please adapt your code to use either `displot` (a figure-level function with similar flexibility) or `histplot` (an axes-level function for histograms).\n",
            "  warnings.warn(msg, FutureWarning)\n"
          ]
        },
        {
          "output_type": "display_data",
          "data": {
            "text/plain": [
              "<Figure size 432x288 with 1 Axes>"
            ],
            "image/png": "[encoded data removed]"
          },
          "metadata": {
            "needs_background": "light"
          }
        }
      ],
      "source": [
        "def crear_histograma_con(datos):\n",
        "    import seaborn as sns\n",
        "    import numpy as np\n",
        "    \n",
        "    sns.distplot(datos, kde=False, bins=len(np.unique(datos)))\n",
        "crear_histograma_con(edades_filtradas)"
      ]
    },
    {
      "cell_type": "markdown",
      "metadata": {
        "id": "CDpXp6Yxkugj"
      },
      "source": [
        "<details><summary>Solución</summary>\n",
        "\n",
        "```python\n",
        "def valor_no_es_none(valor):\n",
        "    \n",
        "    if valor == None:\n",
        "        return False\n",
        "    else:\n",
        "        return True\n",
        "    \n",
        "edades_filtradas = list(filter(valor_no_es_none, edades))\n",
        "```\n",
        "    \n",
        "</details>"
      ]
    },
    {
      "cell_type": "markdown",
      "metadata": {
        "id": "0jwZoUI8kugk"
      },
      "source": [
        "#### b) Filtrando datos atípicos\n",
        "\n",
        "Aquí tenemos una `lista` que contiene datos acerca de los sueldos (cada número representa \"miles de pesos\") de los empleados de EyePoker Inc. (la empresa donde se producen los mejores picadores de ojos en todo el Hemisferio Occidental):"
      ]
    },
    {
      "cell_type": "code",
      "execution_count": 8,
      "metadata": {
        "id": "GIic-iuwkugk"
      },
      "outputs": [],
      "source": [
        "sueldos = [26, 32, 26, 30, 30, 32, 28, 30, 28, 110, 34, 30, 28, 26, 28, 30, 28, 85, 25, 30, 34, 34, 30, 30, 120, 28, 28, 120, 125]"
      ]
    },
    {
      "cell_type": "markdown",
      "metadata": {
        "id": "frmDvSXmkugl"
      },
      "source": [
        "En general todos los sueldos se encuentran en un rango bastante restringido, pero tenemos algunos datos sobre sueldos \"anormalmente\" grandes. Los sueldos tan grandes son los de los ejecutivos, que claramente no tienen ninguna noción de \"justicia\" (eso pasa cuando tus picadores de ojos son los mejores de todo el Hemisferio Occidental). Nosotros queremos usar el promedio para tener una idea de cuál es el sueldo `típico` en esta empresa. Nuestros valores `atípicos` (los sueldos anormalmente grandes) van a arruinar nuestro cálculo.\n",
        "\n",
        "Mira cuál es el sueldo `típico` si no filtramos nuestros valores anormalmente grandes:"
      ]
    },
    {
      "cell_type": "code",
      "execution_count": 9,
      "metadata": {
        "id": "fsFYvD6gkugl",
        "outputId": "08b6c323-3e40-4011-8fe9-fcf8f24bec40",
        "colab": {
          "base_uri": "https://localhost:8080/"
        }
      },
      "outputs": [
        {
          "output_type": "stream",
          "name": "stdout",
          "text": [
            "El sueldo \"típico\" en EyePoker Inc. es de 43.62068965517241\n"
          ]
        }
      ],
      "source": [
        "print(f'El sueldo \"típico\" en EyePoker Inc. es de {sum(sueldos) / len(sueldos)}')"
      ]
    },
    {
      "cell_type": "markdown",
      "metadata": {
        "id": "EsH1jF4rkugm"
      },
      "source": [
        "Para corregir esto haz una función llamada `numero_es_menor_que_40` que descarte los números mayores de 40, y úsala para filtrar la lista `sueldos`, para tener un cálculo más apropiado del sueldo `típico` en esta empresa."
      ]
    },
    {
      "cell_type": "code",
      "execution_count": 10,
      "metadata": {
        "id": "TZ6sYeBlkugm"
      },
      "outputs": [],
      "source": [
        "def numero_es_menor_que_40(numero):\n",
        "  if numero<40:\n",
        "    return True\n",
        "  else:\n",
        "    return False\n",
        "## ...\n",
        "## ..."
      ]
    },
    {
      "cell_type": "code",
      "execution_count": 12,
      "metadata": {
        "id": "vSV5-jiykugm",
        "outputId": "d10277d4-15cc-4621-c50d-a1eb79c4e14f",
        "colab": {
          "base_uri": "https://localhost:8080/"
        }
      },
      "outputs": [
        {
          "output_type": "execute_result",
          "data": {
            "text/plain": [
              "[26,\n",
              " 32,\n",
              " 26,\n",
              " 30,\n",
              " 30,\n",
              " 32,\n",
              " 28,\n",
              " 30,\n",
              " 28,\n",
              " 34,\n",
              " 30,\n",
              " 28,\n",
              " 26,\n",
              " 28,\n",
              " 30,\n",
              " 28,\n",
              " 25,\n",
              " 30,\n",
              " 34,\n",
              " 34,\n",
              " 30,\n",
              " 30,\n",
              " 28,\n",
              " 28]"
            ]
          },
          "metadata": {},
          "execution_count": 12
        }
      ],
      "source": [
        "sueldos_filtrados =list(filter(numero_es_menor_que_40,sueldos))\n",
        "sueldos_filtrados"
      ]
    },
    {
      "cell_type": "code",
      "execution_count": 13,
      "metadata": {
        "id": "-fC5Vdbzkugn",
        "outputId": "4022c91a-3342-47cb-b351-eadd307d3542",
        "colab": {
          "base_uri": "https://localhost:8080/"
        }
      },
      "outputs": [
        {
          "output_type": "stream",
          "name": "stdout",
          "text": [
            "El sueldo \"típico\" en EyePoker Inc. es de 29.375\n"
          ]
        }
      ],
      "source": [
        "print(f'El sueldo \"típico\" en EyePoker Inc. es de {sum(sueldos_filtrados) / len(sueldos_filtrados)}')"
      ]
    },
    {
      "cell_type": "markdown",
      "metadata": {
        "id": "VsvrtFH1kugn"
      },
      "source": [
        "<details><summary>Solución</summary>\n",
        "\n",
        "```python\n",
        "def numero_es_menor_que_40(numero):\n",
        "    \n",
        "    if numero < 40:\n",
        "        return True\n",
        "    else:\n",
        "        return False\n",
        "    \n",
        "sueldos_filtrados = list(filter(numero_es_menor_que_40, sueldos))\n",
        "```\n",
        "    \n",
        "</details>"
      ]
    },
    {
      "cell_type": "code",
      "execution_count": null,
      "metadata": {
        "id": "m4pVcXW4kugn"
      },
      "outputs": [],
      "source": [
        ""
      ]
    }
  ],
  "metadata": {
    "kernelspec": {
      "display_name": "Python (data_science)",
      "language": "python",
      "name": "data_science"
    },
    "language_info": {
      "codemirror_mode": {
        "name": "ipython",
        "version": 3
      },
      "file_extension": ".py",
      "mimetype": "text/x-python",
      "name": "python",
      "nbconvert_exporter": "python",
      "pygments_lexer": "ipython3",
      "version": "3.8.5"
    },
    "colab": {
      "name": "filter.ipynb",
      "provenance": []
    }
  },
  "nbformat": 4,
  "nbformat_minor": 0
}