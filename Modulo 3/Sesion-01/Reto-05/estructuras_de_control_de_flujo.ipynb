{
  "cells": [
    {
      "cell_type": "markdown",
      "metadata": {
        "id": "EQkTm8DYB3Kv"
      },
      "source": [
        "## Reto 5: Estructuras de control de flujo\n",
        "\n",
        "### 1. Objetivos:\n",
        "    - Entender el funcionamiento de las estructuras de control de flujo a través de un reto\n",
        " \n",
        "---\n",
        "    \n",
        "### 2. Desarrollo:"
      ]
    },
    {
      "cell_type": "markdown",
      "metadata": {
        "id": "oJvg0YliB3K2"
      },
      "source": [
        "#### 1. Comparaciones numéricas\n",
        "\n",
        "Vamos a imaginar que estamos analizando un conjunto de datos que contiene las ventas anuales en pesos de unos vendedores que trabajan en nuestra empresa. Obtenemos el total de ventas anuales en pesos y lo tenemos asignado a la variable `ventas_anuales_totales`. Escribe una estructura de control que nos diga de cuánto va a ser el bono de nuestro empleado.\n",
        "\n",
        "Si las ventas son mayores a `$`1,000,000 el bono será de 20% del sueldo; si son entre `$`700,000 y `$`1,000,000 el bono será de 15% del sueldo; entre `$`400,000 y `$`700,000 el bono será de 10% del sueldo; entre `$`100,00 y 400,000 el bono será de 5% del sueldo; y debajo de `$`100,000 el bono será del 1% del sueldo.\n",
        "\n",
        "Escribe tu estructura de control y, por ahora (más adelante tendremos más herramientas para hacer esto más interesante) imprime una string que diga de cuánto va a ser el bono.\n",
        "\n",
        "> Reto opcional: Agrega una variable `sueldo` que sea el sueldo de tu empleado y agrégale el porcentaje de bono a esa variable dependiendo de la condición que se cumpla. Después hasta el final imprime una string interpolada que diga algo como \"Felicidades, tu sueldo es x; tu bono es de x; y el total de sueldo con el bono incluido es de x\". ¡Para que esto funcione también debes de agregar una variable donde guardes la cantidad del bono!"
      ]
    },
    {
      "cell_type": "code",
      "execution_count": 4,
      "metadata": {
        "id": "Mb-YC-VRB3K4"
      },
      "outputs": [],
      "source": [
        "ventas_anuales_totales = 200000\n",
        "\n",
        "sueldo = 40000"
      ]
    },
    {
      "cell_type": "code",
      "execution_count": 6,
      "metadata": {
        "id": "jqVTduNSB3K6",
        "outputId": "4fb7a984-ae5f-4cd6-c22d-43d4e3e7bcc7",
        "colab": {
          "base_uri": "https://localhost:8080/"
        }
      },
      "outputs": [
        {
          "output_type": "stream",
          "name": "stdout",
          "text": [
            "Como las ventas son de : 200000 el bono es de 5% con un sueldo de 40000 es 2000.0 con una remuneración de 42000.0\n"
          ]
        }
      ],
      "source": [
        "\n",
        "if ventas_anuales_totales>=1000000:\n",
        "  bono = sueldo*0.2\n",
        "  porcentaje = '20%'\n",
        "elif 1000000>ventas_anuales_totales>=700000:\n",
        "  bono = sueldo*0.15\n",
        "  porcentaje = '15%'\n",
        "elif 700000>ventas_anuales_totales>=400000:\n",
        "  bono = sueldo*0.10\n",
        "  porcentaje = '10%'\n",
        "elif 400000>ventas_anuales_totales>=100000:\n",
        "  bono = sueldo*0.05\n",
        "  porcentaje = '5%'\n",
        "else :\n",
        "  bono = sueldo*0.01\n",
        "  porcentaje = '1%'\n",
        "\n",
        "print(f'Como las ventas son de : {ventas_anuales_totales} el bono es de {porcentaje} con un sueldo de {sueldo} es {bono} con una remuneración de {sueldo+bono}')\n"
      ]
    },
    {
      "cell_type": "markdown",
      "metadata": {
        "id": "EYuiR589B3K7"
      },
      "source": [
        "<details><summary>Solución</summary>\n",
        "\n",
        "```python\n",
        "if ventas_anuales_totales >= 1000000:\n",
        "    bono = 0.2\n",
        "elif ventas_anuales_totales >= 700000:\n",
        "    bono = 0.15\n",
        "elif ventas_anuales_totales >= 400000:\n",
        "    bono = 0.1\n",
        "elif ventas_anuales_totales >= 100000:\n",
        "    bono = 0.05\n",
        "else:\n",
        "    bono = 0.01\n",
        "    \n",
        "sueldo_mas_bono = sueldo + sueldo * bono\n",
        "    \n",
        "print(f\"Felicidades, tu sueldo es {sueldo}; tu bono es de {bono}, y el total de sueldo con el bono incluido es de {sueldo_mas_bono}\")\n",
        "```\n",
        "    \n",
        "</details>"
      ]
    },
    {
      "cell_type": "code",
      "execution_count": null,
      "metadata": {
        "id": "RiTxiisgB3K8"
      },
      "outputs": [],
      "source": [
        ""
      ]
    }
  ],
  "metadata": {
    "kernelspec": {
      "display_name": "Python (data_science)",
      "language": "python",
      "name": "data_science"
    },
    "language_info": {
      "codemirror_mode": {
        "name": "ipython",
        "version": 3
      },
      "file_extension": ".py",
      "mimetype": "text/x-python",
      "name": "python",
      "nbconvert_exporter": "python",
      "pygments_lexer": "ipython3",
      "version": "3.8.5"
    },
    "colab": {
      "name": "estructuras_de_control_de_flujo.ipynb",
      "provenance": []
    }
  },
  "nbformat": 4,
  "nbformat_minor": 0
}