{
  "cells": [
    {
      "cell_type": "markdown",
      "metadata": {
        "id": "6B4MGjnczeGy"
      },
      "source": [
        "## Reto 3: Agregaciones con `DataFrames`\n",
        "\n",
        "### 1. Objetivos:\n",
        "    - Aplicar agregaciones a `DataFrames` completos para obtener un análisis estadístico\n",
        " \n",
        "---\n",
        "    \n",
        "### 2. Desarrollo:"
      ]
    },
    {
      "cell_type": "markdown",
      "metadata": {
        "id": "n-CvzzK3zeG2"
      },
      "source": [
        "#### a) Análisis estadístico con agregaciones\n",
        "\n",
        "Eres el Analista de Datos de EyePoker Inc. Te han pedido que realices ciertas agregaciones con un conjunto de datos para poder realizar un análisis estadístico básico de los datos que hay dentro.\n",
        "\n",
        "El conjunto de datos es el siguiente:"
      ]
    },
    {
      "cell_type": "code",
      "execution_count": 1,
      "metadata": {
        "id": "nMTxhrACzeG4"
      },
      "outputs": [],
      "source": [
        "## Realiza aquí los imports que necesites\n",
        "import numpy as np\n",
        "import pandas as pd"
      ]
    },
    {
      "cell_type": "code",
      "execution_count": 2,
      "metadata": {
        "id": "E7kVfyXfzeG8"
      },
      "outputs": [],
      "source": [
        "datos = {\n",
        "    'producto': [\"Pokemaster\", \"Cegatron\", \"Pikame Mucho\", \"Lazarillo de Tormes\", \"Stevie Wonder\", \"Needle\", \"El AyMeDuele\", \"El Desretinador\", \"Sacamel Ojocles\", \"Desojado\", \"Maribel Buenas Noches\", \"Cíclope\", \"El Cuatro Ojos\"],\n",
        "    'precio': [12000, 5500, 2350, 4800, 8900, 6640, 1280, 1040, 23100, 16700, 15000, 13400, 19600],\n",
        "    'cantidad_en_stock': [34, 54, 36, 78, 56, 12, 34, 4, 0, 18, 45, 23, 5],\n",
        "    'cantidad_vendidos': [120, 34, 59, 9, 15, 51, 103, 72, 39, 23, 10, 62, 59]\n",
        "}\n",
        "\n",
        "df = pd.DataFrame(datos)"
      ]
    },
    {
      "cell_type": "code",
      "execution_count": 3,
      "metadata": {
        "id": "MqioVDnozeG_",
        "outputId": "a9ae789c-84f0-4dd6-cc64-cc663e7692f9",
        "colab": {
          "base_uri": "https://localhost:8080/",
          "height": 457
        }
      },
      "outputs": [
        {
          "output_type": "execute_result",
          "data": {
            "text/plain": [
              "                 producto  precio  cantidad_en_stock  cantidad_vendidos\n",
              "0              Pokemaster   12000                 34                120\n",
              "1                Cegatron    5500                 54                 34\n",
              "2            Pikame Mucho    2350                 36                 59\n",
              "3     Lazarillo de Tormes    4800                 78                  9\n",
              "4           Stevie Wonder    8900                 56                 15\n",
              "5                  Needle    6640                 12                 51\n",
              "6            El AyMeDuele    1280                 34                103\n",
              "7         El Desretinador    1040                  4                 72\n",
              "8         Sacamel Ojocles   23100                  0                 39\n",
              "9                Desojado   16700                 18                 23\n",
              "10  Maribel Buenas Noches   15000                 45                 10\n",
              "11                Cíclope   13400                 23                 62\n",
              "12         El Cuatro Ojos   19600                  5                 59"
            ],
            "text/html": [
              "\n",
              "  <div id=\"df-20e3dc2f-3a18-4746-9c71-85c7097abc6f\">\n",
              "    <div class=\"colab-df-container\">\n",
              "      <div>\n",
              "<style scoped>\n",
              "    .dataframe tbody tr th:only-of-type {\n",
              "        vertical-align: middle;\n",
              "    }\n",
              "\n",
              "    .dataframe tbody tr th {\n",
              "        vertical-align: top;\n",
              "    }\n",
              "\n",
              "    .dataframe thead th {\n",
              "        text-align: right;\n",
              "    }\n",
              "</style>\n",
              "<table border=\"1\" class=\"dataframe\">\n",
              "  <thead>\n",
              "    <tr style=\"text-align: right;\">\n",
              "      <th></th>\n",
              "      <th>producto</th>\n",
              "      <th>precio</th>\n",
              "      <th>cantidad_en_stock</th>\n",
              "      <th>cantidad_vendidos</th>\n",
              "    </tr>\n",
              "  </thead>\n",
              "  <tbody>\n",
              "    <tr>\n",
              "      <th>0</th>\n",
              "      <td>Pokemaster</td>\n",
              "      <td>12000</td>\n",
              "      <td>34</td>\n",
              "      <td>120</td>\n",
              "    </tr>\n",
              "    <tr>\n",
              "      <th>1</th>\n",
              "      <td>Cegatron</td>\n",
              "      <td>5500</td>\n",
              "      <td>54</td>\n",
              "      <td>34</td>\n",
              "    </tr>\n",
              "    <tr>\n",
              "      <th>2</th>\n",
              "      <td>Pikame Mucho</td>\n",
              "      <td>2350</td>\n",
              "      <td>36</td>\n",
              "      <td>59</td>\n",
              "    </tr>\n",
              "    <tr>\n",
              "      <th>3</th>\n",
              "      <td>Lazarillo de Tormes</td>\n",
              "      <td>4800</td>\n",
              "      <td>78</td>\n",
              "      <td>9</td>\n",
              "    </tr>\n",
              "    <tr>\n",
              "      <th>4</th>\n",
              "      <td>Stevie Wonder</td>\n",
              "      <td>8900</td>\n",
              "      <td>56</td>\n",
              "      <td>15</td>\n",
              "    </tr>\n",
              "    <tr>\n",
              "      <th>5</th>\n",
              "      <td>Needle</td>\n",
              "      <td>6640</td>\n",
              "      <td>12</td>\n",
              "      <td>51</td>\n",
              "    </tr>\n",
              "    <tr>\n",
              "      <th>6</th>\n",
              "      <td>El AyMeDuele</td>\n",
              "      <td>1280</td>\n",
              "      <td>34</td>\n",
              "      <td>103</td>\n",
              "    </tr>\n",
              "    <tr>\n",
              "      <th>7</th>\n",
              "      <td>El Desretinador</td>\n",
              "      <td>1040</td>\n",
              "      <td>4</td>\n",
              "      <td>72</td>\n",
              "    </tr>\n",
              "    <tr>\n",
              "      <th>8</th>\n",
              "      <td>Sacamel Ojocles</td>\n",
              "      <td>23100</td>\n",
              "      <td>0</td>\n",
              "      <td>39</td>\n",
              "    </tr>\n",
              "    <tr>\n",
              "      <th>9</th>\n",
              "      <td>Desojado</td>\n",
              "      <td>16700</td>\n",
              "      <td>18</td>\n",
              "      <td>23</td>\n",
              "    </tr>\n",
              "    <tr>\n",
              "      <th>10</th>\n",
              "      <td>Maribel Buenas Noches</td>\n",
              "      <td>15000</td>\n",
              "      <td>45</td>\n",
              "      <td>10</td>\n",
              "    </tr>\n",
              "    <tr>\n",
              "      <th>11</th>\n",
              "      <td>Cíclope</td>\n",
              "      <td>13400</td>\n",
              "      <td>23</td>\n",
              "      <td>62</td>\n",
              "    </tr>\n",
              "    <tr>\n",
              "      <th>12</th>\n",
              "      <td>El Cuatro Ojos</td>\n",
              "      <td>19600</td>\n",
              "      <td>5</td>\n",
              "      <td>59</td>\n",
              "    </tr>\n",
              "  </tbody>\n",
              "</table>\n",
              "</div>\n",
              "      <button class=\"colab-df-convert\" onclick=\"convertToInteractive('df-20e3dc2f-3a18-4746-9c71-85c7097abc6f')\"\n",
              "              title=\"Convert this dataframe to an interactive table.\"\n",
              "              style=\"display:none;\">\n",
              "        \n",
              "  <svg xmlns=\"http://www.w3.org/2000/svg\" height=\"24px\"viewBox=\"0 0 24 24\"\n",
              "       width=\"24px\">\n",
              "    <path d=\"M0 0h24v24H0V0z\" fill=\"none\"/>\n",
              "    <path d=\"M18.56 5.44l.94 2.06.94-2.06 2.06-.94-2.06-.94-.94-2.06-.94 2.06-2.06.94zm-11 1L8.5 8.5l.94-2.06 2.06-.94-2.06-.94L8.5 2.5l-.94 2.06-2.06.94zm10 10l.94 2.06.94-2.06 2.06-.94-2.06-.94-.94-2.06-.94 2.06-2.06.94z\"/><path d=\"M17.41 7.96l-1.37-1.37c-.4-.4-.92-.59-1.43-.59-.52 0-1.04.2-1.43.59L10.3 9.45l-7.72 7.72c-.78.78-.78 2.05 0 2.83L4 21.41c.39.39.9.59 1.41.59.51 0 1.02-.2 1.41-.59l7.78-7.78 2.81-2.81c.8-.78.8-2.07 0-2.86zM5.41 20L4 18.59l7.72-7.72 1.47 1.35L5.41 20z\"/>\n",
              "  </svg>\n",
              "      </button>\n",
              "      \n",
              "  <style>\n",
              "    .colab-df-container {\n",
              "      display:flex;\n",
              "      flex-wrap:wrap;\n",
              "      gap: 12px;\n",
              "    }\n",
              "\n",
              "    .colab-df-convert {\n",
              "      background-color: #E8F0FE;\n",
              "      border: none;\n",
              "      border-radius: 50%;\n",
              "      cursor: pointer;\n",
              "      display: none;\n",
              "      fill: #1967D2;\n",
              "      height: 32px;\n",
              "      padding: 0 0 0 0;\n",
              "      width: 32px;\n",
              "    }\n",
              "\n",
              "    .colab-df-convert:hover {\n",
              "      background-color: #E2EBFA;\n",
              "      box-shadow: 0px 1px 2px rgba(60, 64, 67, 0.3), 0px 1px 3px 1px rgba(60, 64, 67, 0.15);\n",
              "      fill: #174EA6;\n",
              "    }\n",
              "\n",
              "    [theme=dark] .colab-df-convert {\n",
              "      background-color: #3B4455;\n",
              "      fill: #D2E3FC;\n",
              "    }\n",
              "\n",
              "    [theme=dark] .colab-df-convert:hover {\n",
              "      background-color: #434B5C;\n",
              "      box-shadow: 0px 1px 3px 1px rgba(0, 0, 0, 0.15);\n",
              "      filter: drop-shadow(0px 1px 2px rgba(0, 0, 0, 0.3));\n",
              "      fill: #FFFFFF;\n",
              "    }\n",
              "  </style>\n",
              "\n",
              "      <script>\n",
              "        const buttonEl =\n",
              "          document.querySelector('#df-20e3dc2f-3a18-4746-9c71-85c7097abc6f button.colab-df-convert');\n",
              "        buttonEl.style.display =\n",
              "          google.colab.kernel.accessAllowed ? 'block' : 'none';\n",
              "\n",
              "        async function convertToInteractive(key) {\n",
              "          const element = document.querySelector('#df-20e3dc2f-3a18-4746-9c71-85c7097abc6f');\n",
              "          const dataTable =\n",
              "            await google.colab.kernel.invokeFunction('convertToInteractive',\n",
              "                                                     [key], {});\n",
              "          if (!dataTable) return;\n",
              "\n",
              "          const docLinkHtml = 'Like what you see? Visit the ' +\n",
              "            '<a target=\"_blank\" href=https://colab.research.google.com/notebooks/data_table.ipynb>data table notebook</a>'\n",
              "            + ' to learn more about interactive tables.';\n",
              "          element.innerHTML = '';\n",
              "          dataTable['output_type'] = 'display_data';\n",
              "          await google.colab.output.renderOutput(dataTable, element);\n",
              "          const docLink = document.createElement('div');\n",
              "          docLink.innerHTML = docLinkHtml;\n",
              "          element.appendChild(docLink);\n",
              "        }\n",
              "      </script>\n",
              "    </div>\n",
              "  </div>\n",
              "  "
            ]
          },
          "metadata": {},
          "execution_count": 3
        }
      ],
      "source": [
        "df"
      ]
    },
    {
      "cell_type": "markdown",
      "metadata": {
        "id": "ZNdCaNS8zeHA"
      },
      "source": [
        "Tu tarea es muy simple. Usando métodos de agregación, asigna las variables de la siguiente celda con los resultados de agregar nuestro `DataFrame` **por columna** usando cada una de las medidas estadísticas. Algunas de los métodos ya los conoces. Los que no, [puedes encontrarlos en este link](https://www.interactivechaos.com/manual/tutorial-de-pandas/dataframes-metodos-de-agregacion-y-estadistica). Lo que queremos obtener es una `Serie` con los nombres de las columnas como índice y las agregaciones por columna como valores. Una de las columnas que tenemos en el `DataFrame` no se presta para realizar análisis numéricos, elimínala antes de realizar tu análisis y asigna el resultado a la variable `df_droppped`.\n",
        "\n",
        "**Sólo** utiliza funciones de agregación para tu análisis. En este caso no requieres hacer ninguna operación aritmética."
      ]
    },
    {
      "cell_type": "code",
      "source": [
        "df_dropped = df.reindex(columns = ['precio','cantidad_en_stock','cantidad_vendidos'])\n",
        "print(df_dropped)\n"
      ],
      "metadata": {
        "id": "stLxNF7P2veg",
        "outputId": "e68271a4-8df1-4d5d-e496-b7e289cccaf4",
        "colab": {
          "base_uri": "https://localhost:8080/"
        }
      },
      "execution_count": 11,
      "outputs": [
        {
          "output_type": "stream",
          "name": "stdout",
          "text": [
            "    precio  cantidad_en_stock  cantidad_vendidos\n",
            "0    12000                 34                120\n",
            "1     5500                 54                 34\n",
            "2     2350                 36                 59\n",
            "3     4800                 78                  9\n",
            "4     8900                 56                 15\n",
            "5     6640                 12                 51\n",
            "6     1280                 34                103\n",
            "7     1040                  4                 72\n",
            "8    23100                  0                 39\n",
            "9    16700                 18                 23\n",
            "10   15000                 45                 10\n",
            "11   13400                 23                 62\n",
            "12   19600                  5                 59\n"
          ]
        }
      ]
    },
    {
      "cell_type": "code",
      "execution_count": 12,
      "metadata": {
        "id": "SidMm9UuzeHB",
        "outputId": "3c715d17-c520-4e78-b0fd-e71979a66062",
        "colab": {
          "base_uri": "https://localhost:8080/"
        }
      },
      "outputs": [
        {
          "output_type": "stream",
          "name": "stdout",
          "text": [
            "precio               1040\n",
            "cantidad_en_stock       0\n",
            "cantidad_vendidos       9\n",
            "dtype: int64\n",
            "precio               23100\n",
            "cantidad_en_stock       78\n",
            "cantidad_vendidos      120\n",
            "dtype: int64\n",
            "precio               10023.846154\n",
            "cantidad_en_stock       30.692308\n",
            "cantidad_vendidos       50.461538\n",
            "dtype: float64\n",
            "precio               8900.0\n",
            "cantidad_en_stock      34.0\n",
            "cantidad_vendidos      51.0\n",
            "dtype: float64\n",
            "precio               7210.205196\n",
            "cantidad_en_stock      23.382275\n",
            "cantidad_vendidos      34.289492\n",
            "dtype: float64\n"
          ]
        },
        {
          "output_type": "stream",
          "name": "stderr",
          "text": [
            "/usr/local/lib/python3.7/dist-packages/ipykernel_launcher.py:20: FutureWarning: Dropping of nuisance columns in DataFrame reductions (with 'numeric_only=None') is deprecated; in a future version this will raise TypeError.  Select only valid columns before calling the reduction.\n"
          ]
        }
      ],
      "source": [
        "\n",
        "# El valor mínimo de cada columna\n",
        "mins = df_dropped.min()\n",
        "print(mins)\n",
        "\n",
        "# El valor máximo de cada columna\n",
        "maxs = df_dropped.max()\n",
        "print(maxs)\n",
        "\n",
        "# El promedio por columna\n",
        "means = df_dropped.mean()\n",
        "print(means)\n",
        "\n",
        "\n",
        "# La mediana por columna (El valor que se encuentra a la mitad de la secuencia ordenada de valores)\n",
        "medians = df_dropped.median()\n",
        "print(medians)\n",
        "\n",
        "# La desviación estándar por columna\n",
        "stds = df.std()\n",
        "print(stds)"
      ]
    },
    {
      "cell_type": "markdown",
      "metadata": {
        "id": "1Nlsue5-zeHE"
      },
      "source": [
        "Pídele a tu experta la función de verificación `resumen_estadistico` (encontrada en el archivo `helpers.py` de la carpeta donde se encuentra este Reto), pégala debajo y corre la celda para verificar tu resultado:"
      ]
    },
    {
      "cell_type": "code",
      "execution_count": null,
      "metadata": {
        "id": "m_UWUn4yzeHF"
      },
      "outputs": [],
      "source": [
        "# Pega aquí la función de verificación\n",
        "\n",
        "resumen_estadistico(df, df_dropped, mins, maxs, means, medians, stds)"
      ]
    },
    {
      "cell_type": "markdown",
      "metadata": {
        "id": "Yd_DWeBVzeHH"
      },
      "source": [
        "<details><summary>Solución</summary>\n",
        "\n",
        "```python\n",
        "df_dropped = df.drop(columns=['producto'])\n",
        "\n",
        "# El valor mínimo de cada columna\n",
        "mins = df_dropped.min(axis=0)\n",
        "\n",
        "# El valor máximo de cada columna\n",
        "maxs = df_dropped.max(axis=0)\n",
        "\n",
        "# El promedio por columna\n",
        "means = df_dropped.mean(axis=0)\n",
        "\n",
        "# La mediana por columna (El valor que se encuentra a la mitad de la secuencia ordenada de valores)\n",
        "medians = df_dropped.median(axis=0)\n",
        "\n",
        "# La desviación estándar por columna\n",
        "stds = df_dropped.std(axis=0)\n",
        "```\n",
        "    \n",
        "</details>"
      ]
    },
    {
      "cell_type": "code",
      "execution_count": null,
      "metadata": {
        "id": "1ty9SRBzzeHI"
      },
      "outputs": [],
      "source": [
        ""
      ]
    }
  ],
  "metadata": {
    "kernelspec": {
      "display_name": "Python (data_science)",
      "language": "python",
      "name": "data_science"
    },
    "language_info": {
      "codemirror_mode": {
        "name": "ipython",
        "version": 3
      },
      "file_extension": ".py",
      "mimetype": "text/x-python",
      "name": "python",
      "nbconvert_exporter": "python",
      "pygments_lexer": "ipython3",
      "version": "3.8.1"
    },
    "colab": {
      "name": "vectorizacion_con_dataframes.ipynb",
      "provenance": []
    }
  },
  "nbformat": 4,
  "nbformat_minor": 0
}