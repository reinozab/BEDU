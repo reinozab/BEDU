{
  "cells": [
    {
      "cell_type": "markdown",
      "metadata": {
        "id": "9myuZgMq5mMU"
      },
      "source": [
        "## Reto 4: Concatenación de `Series` y `DataFrames`\n",
        "\n",
        "### 1. Objetivos:\n",
        "    - Practicar la concatenación de `Series` y `DataFrames` usando `np.concat` y `pandas.DataFrame.append`\n",
        " \n",
        "---\n",
        "    \n",
        "### 2. Desarrollo:"
      ]
    },
    {
      "cell_type": "markdown",
      "metadata": {
        "id": "b7y358wF5mMb"
      },
      "source": [
        "### a) Sumando ventas por producto y por mes\n",
        "\n",
        "Eres el analista financiero de EyePoker Inc. Tienes 12 listas con datos. Cada lista contiene la cantidad de unidades vendidas por producto en un mes determinado.\n",
        "\n",
        "Tienes también una lista con los nombres de los productos que ofrece la empresa. \n",
        "\n",
        "Tanto las listas de ventas como la lista de nombres están ordenadas igual. Eso quiere decir que cada índice de cada lista pertenece a datos del mismo producto (es decir, `ventas_enero[3]`, `ventas_febrero[3]`, `ventas_marzo[3]`, `ventas_abril[3]`, etc, todas pertenecen al producto en `productos[3]`).\n",
        "\n",
        "Tu reto es el siguiente:\n",
        "\n",
        "1. Convierte las listas es `Series` de pandas.\n",
        "2. Concatena horizontalmente las `Series` de ventas de manera que cada fila del `DataFrame` resultante corresponda al mismo producto.\n",
        "3. En alguno de los pasos anteriores, agrega los nombres de los productos como índice.\n",
        "4. Crea una nueva columna llamada `total_por_producto` que contenga la suma horizontal de las ventas mensuales de cada producto (es decir, un resumen de las ventas del año por producto).\n",
        "5. (Opcional) Agrega también una fila hasta el final que tenga como índice `total_por_mes` que contenga la suma vertical de las ventas de cada mes (la última celda va a ser la suma total de las ventas de todos los productos en todo el año).\n",
        "\n",
        "> **Tip**: Si quieres hacer el paso número 5, busca en Google el método `pandas.DataFrame.append`."
      ]
    },
    {
      "cell_type": "code",
      "execution_count": 20,
      "metadata": {
        "id": "pDE5-nas5mMi"
      },
      "outputs": [],
      "source": [
        "# Realiza aquí los imports que necesites\n",
        "import pandas as pd\n",
        "import numpy as np"
      ]
    },
    {
      "cell_type": "code",
      "execution_count": 2,
      "metadata": {
        "id": "LWQZz1l05mMn"
      },
      "outputs": [],
      "source": [
        "productos = [\"Pokemaster\", \"Cegatron\", \"Pikame Mucho\", \"Lazarillo de Tormes\", \"Stevie Wonder\", \"Needle\", \"El AyMeDuele\", \"El Desretinador\", \"Sacamel Ojocles\", \"Desojado\", \"Maribel Buenas Noches\", \"Cíclope\", \"El Cuatro Ojos\"]\n",
        "\n",
        "ventas_enero = [3, 5, 4, 45, 2, 32, 7, 89, 7, 6, 24, 51, 12]\n",
        "ventas_febrero = [7, 9, 0, 76, 4, 34, 1, 2, 34, 67, 8, 9, 0]\n",
        "ventas_marzo = [1, 1, 3, 56, 7, 98, 2, 34, 1, 0, 23, 1, 12]\n",
        "ventas_abril = [2, 34, 2, 1, 56, 78, 23, 3, 4, 23, 1, 78, 9]\n",
        "ventas_mayo = [1, 2, 32, 4, 32, 1, 45, 67, 87, 8, 9, 45, 2]\n",
        "ventas_junio = [1, 2, 32, 1, 45, 78, 8, 90, 0, 98, 7, 46, 15]\n",
        "ventas_julio = [15, 62, 37, 85, 5, 8, 9, 0, 75, 36, 52, 15, 12]\n",
        "ventas_agosto = [1, 2, 32, 4, 35, 6, 78, 43, 45, 12, 34, 67, 89]\n",
        "ventas_septiembre = [9, 87, 7, 6, 56, 7, 0, 34, 23, 1, 2, 51, 35]\n",
        "ventas_octubre = [16, 62, 75, 58, 97, 6, 9, 0, 98, 78, 2, 3, 4]\n",
        "ventas_noviembre = [1, 3, 2, 1, 4, 5, 2, 4, 7, 8, 4, 3, 5]\n",
        "ventas_diciembre = [7, 9, 0, 6, 3, 7, 3, 85, 9, 7, 8, 0, 9]"
      ]
    },
    {
      "cell_type": "code",
      "execution_count": 47,
      "metadata": {
        "id": "CJxugXQ_5mMt"
      },
      "outputs": [],
      "source": [
        "## Tu código va aquí\n",
        "serie_1 = pd.Series(ventas_enero, index=productos)\n",
        "serie_2 = pd.Series(ventas_febrero, index=productos)\n",
        "serie_3 = pd.Series(ventas_marzo, index=productos)\n",
        "serie_4 = pd.Series(ventas_abril, index=productos)\n",
        "serie_5 = pd.Series(ventas_mayo, index=productos)\n",
        "serie_6 = pd.Series(ventas_junio, index=productos)\n",
        "serie_7 = pd.Series(ventas_julio, index=productos)\n",
        "serie_8 = pd.Series(ventas_agosto, index=productos)\n",
        "serie_9 = pd.Series(ventas_septiembre, index=productos)\n",
        "serie_10 = pd.Series(ventas_octubre, index=productos)\n",
        "serie_11 = pd.Series(ventas_noviembre, index=productos)\n",
        "serie_12 = pd.Series(ventas_diciembre,index=productos)\n",
        "meses=['Enero', 'Febrero', 'Marzo','Abril','Mayo','Junio','Julio','Agosto','Septiembre','Octubre','Noviembre','Diciembre']\n",
        "df=pd.concat([serie_1, serie_2,serie_3,serie_4,serie_5,serie_6,serie_7,serie_8,serie_9,serie_10,serie_11,serie_12], axis=1, keys=meses)\n",
        "\n",
        "total_ventas=df.sum(axis=1)\n",
        "total_ventas =pd.Series(total_ventas,name='total')\n",
        "df = pd.concat([df,total_ventas],axis=1)\n",
        "total_por_mes = df.sum(axis=0)\n",
        "\n",
        "total_por_mes.name = 'total_por_mes'\n",
        "ventas_dataframe = df.append(total_por_mes)\n",
        "\n",
        "ventas_dataframe = df"
      ]
    },
    {
      "cell_type": "markdown",
      "metadata": {
        "id": "LyYt1e-95mM5"
      },
      "source": [
        "Pídele a tu experta la función de verificación `revisar_dataframe` (encontrada en el archivo `helpers.py` de la carpeta donde se encuentra este Reto), pégala debajo y corre la celda para verificar tu resultado:"
      ]
    },
    {
      "cell_type": "code",
      "execution_count": 48,
      "metadata": {
        "id": "_rlm0azy5mM7",
        "outputId": "829b6cd7-5b8f-4ebb-f81c-0fdc4fbc31dc",
        "colab": {
          "base_uri": "https://localhost:8080/"
        }
      },
      "outputs": [
        {
          "output_type": "stream",
          "name": "stdout",
          "text": [
            "Hubo un error!\n",
            "\n",
            "Dataframe esperado:\n",
            "                       enero  febrero  marzo  abril  mayo  junio  julio  \\\n",
            "Pokemaster                 3        7      1      2     1      1     15   \n",
            "Cegatron                   5        9      1     34     2      2     62   \n",
            "Pikame Mucho               4        0      3      2    32     32     37   \n",
            "Lazarillo de Tormes       45       76     56      1     4      1     85   \n",
            "Stevie Wonder              2        4      7     56    32     45      5   \n",
            "Needle                    32       34     98     78     1     78      8   \n",
            "El AyMeDuele               7        1      2     23    45      8      9   \n",
            "El Desretinador           89        2     34      3    67     90      0   \n",
            "Sacamel Ojocles            7       34      1      4    87      0     75   \n",
            "Desojado                   6       67      0     23     8     98     36   \n",
            "Maribel Buenas Noches     24        8     23      1     9      7     52   \n",
            "Cíclope                   51        9      1     78    45     46     15   \n",
            "El Cuatro Ojos            12        0     12      9     2     15     12   \n",
            "total_por_mes            287      251    239    314   335    423    411   \n",
            "\n",
            "                       agosto  septiembre  octubre  noviembre  diciembre  \\\n",
            "Pokemaster                  1           9       16          1          7   \n",
            "Cegatron                    2          87       62          3          9   \n",
            "Pikame Mucho               32           7       75          2          0   \n",
            "Lazarillo de Tormes         4           6       58          1          6   \n",
            "Stevie Wonder              35          56       97          4          3   \n",
            "Needle                      6           7        6          5          7   \n",
            "El AyMeDuele               78           0        9          2          3   \n",
            "El Desretinador            43          34        0          4         85   \n",
            "Sacamel Ojocles            45          23       98          7          9   \n",
            "Desojado                   12           1       78          8          7   \n",
            "Maribel Buenas Noches      34           2        2          4          8   \n",
            "Cíclope                    67          51        3          3          0   \n",
            "El Cuatro Ojos             89          35        4          5          9   \n",
            "total_por_mes             448         318      508         49        153   \n",
            "\n",
            "                       total_por_producto  \n",
            "Pokemaster                             64  \n",
            "Cegatron                              278  \n",
            "Pikame Mucho                          226  \n",
            "Lazarillo de Tormes                   343  \n",
            "Stevie Wonder                         346  \n",
            "Needle                                360  \n",
            "El AyMeDuele                          187  \n",
            "El Desretinador                       451  \n",
            "Sacamel Ojocles                       390  \n",
            "Desojado                              344  \n",
            "Maribel Buenas Noches                 174  \n",
            "Cíclope                               369  \n",
            "El Cuatro Ojos                        204  \n",
            "total_por_mes                        3736  \n",
            "\n",
            "Dataframe recibido:\n",
            "                       Enero  Febrero  Marzo  Abril  Mayo  Junio  Julio  \\\n",
            "Pokemaster                 3        7      1      2     1      1     15   \n",
            "Cegatron                   5        9      1     34     2      2     62   \n",
            "Pikame Mucho               4        0      3      2    32     32     37   \n",
            "Lazarillo de Tormes       45       76     56      1     4      1     85   \n",
            "Stevie Wonder              2        4      7     56    32     45      5   \n",
            "Needle                    32       34     98     78     1     78      8   \n",
            "El AyMeDuele               7        1      2     23    45      8      9   \n",
            "El Desretinador           89        2     34      3    67     90      0   \n",
            "Sacamel Ojocles            7       34      1      4    87      0     75   \n",
            "Desojado                   6       67      0     23     8     98     36   \n",
            "Maribel Buenas Noches     24        8     23      1     9      7     52   \n",
            "Cíclope                   51        9      1     78    45     46     15   \n",
            "El Cuatro Ojos            12        0     12      9     2     15     12   \n",
            "\n",
            "                       Agosto  Septiembre  Octubre  Noviembre  Diciembre  \\\n",
            "Pokemaster                  1           9       16          1          7   \n",
            "Cegatron                    2          87       62          3          9   \n",
            "Pikame Mucho               32           7       75          2          0   \n",
            "Lazarillo de Tormes         4           6       58          1          6   \n",
            "Stevie Wonder              35          56       97          4          3   \n",
            "Needle                      6           7        6          5          7   \n",
            "El AyMeDuele               78           0        9          2          3   \n",
            "El Desretinador            43          34        0          4         85   \n",
            "Sacamel Ojocles            45          23       98          7          9   \n",
            "Desojado                   12           1       78          8          7   \n",
            "Maribel Buenas Noches      34           2        2          4          8   \n",
            "Cíclope                    67          51        3          3          0   \n",
            "El Cuatro Ojos             89          35        4          5          9   \n",
            "\n",
            "                       total  \n",
            "Pokemaster                64  \n",
            "Cegatron                 278  \n",
            "Pikame Mucho             226  \n",
            "Lazarillo de Tormes      343  \n",
            "Stevie Wonder            346  \n",
            "Needle                   360  \n",
            "El AyMeDuele             187  \n",
            "El Desretinador          451  \n",
            "Sacamel Ojocles          390  \n",
            "Desojado                 344  \n",
            "Maribel Buenas Noches    174  \n",
            "Cíclope                  369  \n",
            "El Cuatro Ojos           204  \n"
          ]
        }
      ],
      "source": [
        "# Pega aquí la función de verificación\n",
        "def revisar_dataframe(ventas_dataframe, productos, ventas_enero, ventas_febrero, ventas_marzo, ventas_abril, ventas_mayo,\n",
        "                      ventas_junio, ventas_julio, ventas_agosto, ventas_septiembre,\n",
        "                      ventas_octubre, ventas_noviembre, ventas_diciembre):\n",
        "    \n",
        "    import pandas as pd\n",
        "    \n",
        "    def concatenar_listas_horizontalmente(lista_de_listas, indice):\n",
        "    \n",
        "        meses = ['enero', 'febrero', 'marzo', 'abril', 'mayo', 'junio', 'julio', 'agosto', 'septiembre', 'octubre', 'noviembre',\n",
        "                'diciembre']\n",
        "\n",
        "        lista_de_series = []\n",
        "        for i in range(len(lista_de_listas)):\n",
        "            lista_de_series.append(pd.Series(lista_de_listas[i], index=indice, name=meses[i]))\n",
        "\n",
        "        dataframe = pd.concat(lista_de_series, axis=1)\n",
        "        return dataframe\n",
        "    \n",
        "    ventas_dataframe_2 = concatenar_listas_horizontalmente([ventas_enero, ventas_febrero, ventas_marzo, ventas_abril, ventas_mayo,\n",
        "                                                      ventas_junio, ventas_julio, ventas_agosto, ventas_septiembre,\n",
        "                                                      ventas_octubre, ventas_noviembre, ventas_diciembre], productos)\n",
        "    ventas_dataframe_2['total_por_producto'] = ventas_dataframe_2.sum(axis=1)\n",
        "    total_por_mes = ventas_dataframe_2.sum(axis=0)\n",
        "    total_por_mes.name = 'total_por_mes'\n",
        "    ventas_dataframe_2 = ventas_dataframe_2.append(total_por_mes)\n",
        "    \n",
        "    if ventas_dataframe.equals(ventas_dataframe_2):\n",
        "        print(f'Felicidades! El procedimiento fue realizado correctamente.')\n",
        "        import seaborn as sns\n",
        "        import matplotlib.pyplot as plt\n",
        "        \n",
        "        fig, axs = plt.subplots(2, 1, figsize=(8, 12))\n",
        "        sin_total_por_mes = ventas_dataframe.drop(index='total_por_mes')\n",
        "        sin_total_por_mes.sort_values('total_por_producto', ascending=False, inplace=True)\n",
        "        axs[0].set_title('Ventas totales por producto')\n",
        "        sns.barplot(sin_total_por_mes['total_por_producto'], sin_total_por_mes.index, ax=axs[0])\n",
        "        \n",
        "        axs[1].set_title('Ventas totales por mes')\n",
        "        sin_total_por_producto = ventas_dataframe.drop(columns='total_por_producto')\n",
        "        sns.barplot(sin_total_por_producto.columns, sin_total_por_producto.loc['total_por_mes'], orient='v', ax=axs[1])\n",
        "        for item in axs[1].get_xticklabels():\n",
        "            item.set_rotation(45)\n",
        "        \n",
        "    else:\n",
        "        print(f'Hubo un error!\\n')\n",
        "        print('Dataframe esperado:')\n",
        "        print(ventas_dataframe_2)\n",
        "        print('\\nDataframe recibido:')\n",
        "        print(ventas_dataframe)\n",
        "\n",
        "revisar_dataframe(ventas_dataframe, productos, ventas_enero, ventas_febrero, ventas_marzo, ventas_abril, ventas_mayo,\n",
        "                      ventas_junio, ventas_julio, ventas_agosto, ventas_septiembre,\n",
        "                      ventas_octubre, ventas_noviembre, ventas_diciembre)"
      ]
    },
    {
      "cell_type": "markdown",
      "metadata": {
        "id": "75_V2M985mM-"
      },
      "source": [
        "<details><summary>Solución</summary>\n",
        "\n",
        "```python\n",
        "def concatenar_listas_horizontalmente(lista_de_listas, indice):\n",
        "    \n",
        "    meses = ['enero', 'febrero', 'marzo', 'abril', 'mayo', 'junio', 'julio', 'agosto', 'septiembre', 'octubre', 'noviembre',\n",
        "            'diciembre']\n",
        "    \n",
        "    lista_de_series = []\n",
        "    for i in range(len(lista_de_listas)):\n",
        "        lista_de_series.append(pd.Series(lista_de_listas[i], index=indice, name=meses[i]))\n",
        "\n",
        "    dataframe = pd.concat(lista_de_series, axis=1)\n",
        "    return dataframe\n",
        "    \n",
        "ventas_dataframe = concatenar_listas_horizontalmente([ventas_enero, ventas_febrero, ventas_marzo, ventas_abril, ventas_mayo,\n",
        "                                                      ventas_junio, ventas_julio, ventas_agosto, ventas_septiembre,\n",
        "                                                      ventas_octubre, ventas_noviembre, ventas_diciembre], productos)\n",
        "    \n",
        "ventas_dataframe['total_por_producto'] = ventas_dataframe.sum(axis=1)\n",
        "    \n",
        "total_por_mes = ventas_dataframe.sum(axis=0)\n",
        "\n",
        "total_por_mes.name = 'total_por_mes'\n",
        "ventas_dataframe = ventas_dataframe.append(total_por_mes)\n",
        "```\n",
        "    \n",
        "</details>"
      ]
    }
  ],
  "metadata": {
    "kernelspec": {
      "display_name": "Python (data_science)",
      "language": "python",
      "name": "data_science"
    },
    "language_info": {
      "codemirror_mode": {
        "name": "ipython",
        "version": 3
      },
      "file_extension": ".py",
      "mimetype": "text/x-python",
      "name": "python",
      "nbconvert_exporter": "python",
      "pygments_lexer": "ipython3",
      "version": "3.8.1"
    },
    "colab": {
      "name": "concat.ipynb",
      "provenance": []
    }
  },
  "nbformat": 4,
  "nbformat_minor": 0
}